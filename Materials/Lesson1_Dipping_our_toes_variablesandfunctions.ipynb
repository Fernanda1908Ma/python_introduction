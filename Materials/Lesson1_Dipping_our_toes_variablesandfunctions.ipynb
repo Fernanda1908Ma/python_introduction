{
  "nbformat": 4,
  "nbformat_minor": 0,
  "metadata": {
    "colab": {
      "provenance": [],
      "include_colab_link": true
    },
    "kernelspec": {
      "name": "python3",
      "display_name": "Python 3"
    },
    "language_info": {
      "name": "python"
    }
  },
  "cells": [
    {
      "cell_type": "markdown",
      "metadata": {
        "id": "view-in-github",
        "colab_type": "text"
      },
      "source": [
        "<a href=\"https://colab.research.google.com/github/Fernanda1908Ma/python_introduction/blob/main/Materials/Lesson1_Dipping_our_toes_variablesandfunctions.ipynb\" target=\"_parent\"><img src=\"https://colab.research.google.com/assets/colab-badge.svg\" alt=\"Open In Colab\"/></a>"
      ]
    },
    {
      "cell_type": "markdown",
      "source": [
        "\n",
        "\n",
        "\n",
        "\n",
        "\n",
        "\n",
        "<img src=\"https://aprende.gob.mx/wp-content/uploads/2024/01/ipn-2.jpg\" width=\"150\" background=\"white\"> <img src=\"https://i.ytimg.com/vi/Czzta0QbI8c/maxresdefault.jpg\" width=\"370\" background=\"white\">  <img src=\"https://www.upiig.ipn.mx/assets/files/upiig/img/Iconos/LogoUPIIG.png\" width=\"230\" background=\"white\">\n"
      ],
      "metadata": {
        "id": "Drc-Wha6Ctra"
      }
    },
    {
      "cell_type": "markdown",
      "source": [
        "## **Types of Python Variables**\n",
        "\n",
        "---\n",
        "- **Authors**: María Fernanda Manríquez García & Julio Cesar Pantoja Barroso\n",
        "- **In collaboration with**: José Manuel Rivera Garnica\n",
        "- **Location**: UPIIG - IPN\n",
        "- **Objetive**:   \n",
        "This is an interactive notebook to learn about Python variables and functions! We will go through sintaxis and structure over the course of this lesson:)\n",
        "\n",
        "---"
      ],
      "metadata": {
        "id": "iv2BJy3QCvwS"
      }
    },
    {
      "cell_type": "markdown",
      "source": [
        "What are variables? In programming a variable is a \"piece\" of memory that stores a value that can change over time.\n",
        "In python we can have lots of different types of variables. In this lesson we will go through the 5 main types: integer, float, complex, boolean, and string."
      ],
      "metadata": {
        "id": "Vl5gvVj88jrj"
      }
    },
    {
      "cell_type": "code",
      "source": [
        "#@title INTEGERS\n",
        "#@markdown Integers are numbers that are not a fraction, \"whole\" values. To express a variable that is an integer, you just have to type the given name for the variable, =, and then the integer value :) E.g. x = 3\n",
        "#Define integer value\n",
        "x=3\n",
        "#Print value\n",
        "print(\"integer:\", x)\n",
        "#ask type of variable\n",
        "print(type(x))\n",
        "#Run code"
      ],
      "metadata": {
        "id": "82IGIumR9XF_"
      },
      "execution_count": null,
      "outputs": []
    },
    {
      "cell_type": "code",
      "source": [
        "#@title FLOAT\n",
        "#@markdown Float numbers are fractions, they include decimal values. You express float numbers the same way you type down integers,  e.g. y = 5.9\n",
        "#Define float number\n",
        "y = 5.9\n",
        "#Print value\n",
        "print(\"float:\", y)\n",
        "#ask type of variable\n",
        "print(type(y))\n",
        "#Run code\n",
        "#@markdown You can use scientific notation to express float values. E.g. z = .016987 = 1.6987 * 10^-2 =1.6987e-2\n",
        "z = 1.6987e-2\n",
        "#Print value\n",
        "print(\"float\", z)\n",
        "#ask type of variable\n",
        "print(type(z))\n",
        "#Run code"
      ],
      "metadata": {
        "id": "fnOJ_dqS-PxD"
      },
      "execution_count": null,
      "outputs": []
    },
    {
      "cell_type": "code",
      "source": [
        "#@title COMPLEX\n",
        "#@markdown Complex numbers include imaginary values, python recognizes \"j\" as the square root of minus one. E. g. i = square_root ( -16 ) = 4 * square root ( -1 )= 4 j\n",
        "i = 4j\n",
        "#Print value\n",
        "print(\"complex:\", i)\n",
        "#ask type of variable\n",
        "print(type(i))\n",
        "#Run code"
      ],
      "metadata": {
        "id": "ajBxwj3y-2vN"
      },
      "execution_count": null,
      "outputs": []
    },
    {
      "cell_type": "code",
      "source": [
        "#@title STRING\n",
        "#@markdown String variables are text chains. To declare a string variable you follow the structure: variable given name = \"text\". E.g. t  = \"Hola!\"\n",
        "t = \"Hola!\"\n",
        "#Print value\n",
        "print(\"string:\", t)\n",
        "#ask type of variable\n",
        "print(type(t))\n",
        "#Run code"
      ],
      "metadata": {
        "id": "-lXKpIRPBPTE"
      },
      "execution_count": null,
      "outputs": []
    },
    {
      "cell_type": "code",
      "source": [
        "#@title BOOLEAN\n",
        "#@markdown Boolean variables can only have two values : True or false. You can use == to specify \"True\". E.g. a=True, b=False, d==3\n",
        "b = True\n",
        "#Print value\n",
        "print(\"boolean:\", b)\n",
        "#ask type of variable\n",
        "print(type(b))\n",
        "#Run code\n",
        "#@markdown We will use more boolean structures once we get to control structures!\n"
      ],
      "metadata": {
        "id": "K_k7SMcqBlqf"
      },
      "execution_count": null,
      "outputs": []
    },
    {
      "cell_type": "code",
      "source": [
        "#@title EXERCISE: Type down the type of variable for the elements on the screen, some of them may not be possible. For string type \"string\", for float type \"float\", for integer type \"int\", for complex type \"complex\", for not possible type \"np\".\n",
        "#@markdown  1st Element: \"TRUE\"\n",
        "answer1 = '' #@param {type:\"string\"}\n",
        "#@markdown  2nd Element: AGGCCTGTC\n",
        "answer2 = '' #@param {type:\"string\"}\n",
        "#@markdown  3rd Element: FALSE\n",
        "answer3 = '' #@param {type:\"string\"}\n",
        "#@markdown  4th Element: 4\n",
        "answer4 = '' #@param {type:\"string\"}\n",
        "#@markdown  5th Element: 478e5\n",
        "answer5= '' #@param {type:\"string\"}\n",
        "#@markdown  6th Element: 3+4j\n",
        "answer6 = '' #@param {type:\"string\"}\n",
        "#@markdown  7th Element: \"Patient's weight = 78.9 kg\"\n",
        "answer7= '' #@param {type:\"string\"}\n",
        "#@markdown  8th Element: 32\n",
        "answer8 = '' #@param {type:\"string\"}\n",
        "#@markdown  9th Element: True\n",
        "answer9 = '' #@param {type:\"string\"}\n",
        "#@markdown  10th Element: \"5j + 10e6\"\n",
        "answer10 = '' #@param {type:\"string\"}\n",
        "\n",
        "if answer1 == \"string\":\n",
        "  print(\"Answer 1 is correct!\")\n",
        "else:\n",
        "  print(\"Try again! Answer 1 is incorrect\")\n",
        "\n",
        "if answer2 == \"np\":\n",
        "  print(\"Answer 2 is correct!\")\n",
        "else:\n",
        "  print(\"Try again! Answer 2 is incorrect\")\n",
        "\n",
        "if answer3 == \"np\":\n",
        "  print(\"Answer 3 is correct!\")\n",
        "else:\n",
        "  print(\"Try again! Answer 3 is incorrect\")\n",
        "\n",
        "if answer4 == \"int\":\n",
        "  print(\"Answer 4 is correct!\")\n",
        "else:\n",
        "  print(\"Try again! Answer 4 is incorrect\")\n",
        "\n",
        "if answer5 == \"float\":\n",
        "  print(\"Answer 5 is correct!\")\n",
        "else:\n",
        "  print(\"Try again! Answer 5 is incorrect\")\n",
        "\n",
        "if answer6 == \"complex\":\n",
        "  print(\"Answer 6 is correct!\")\n",
        "else:\n",
        "  print(\"Try again! Answer 6 is incorrect\")\n",
        "\n",
        "if answer7 == \"string\":\n",
        "  print(\"Answer 7 is correct!\")\n",
        "else:\n",
        "  print(\"Try again! Answer 7 is incorrect\")\n",
        "\n",
        "if answer8 == \"int\":\n",
        "  print(\"Answer 8 is correct!\")\n",
        "else:\n",
        "  print(\"Try again! Answer 8 is incorrect\")\n",
        "\n",
        "if answer9 == \"bool\":\n",
        "  print(\"Answer 9 is correct!\")\n",
        "else:\n",
        "  print(\"Try again! Answer 9 is incorrect\")\n",
        "\n",
        "if answer10 == \"string\":\n",
        "  print(\"Answer 10 is Correct!\")\n",
        "else:\n",
        "  print(\"Try again! Answer 10 is incorrect\")"
      ],
      "metadata": {
        "cellView": "form",
        "id": "rlymxbylFMPa"
      },
      "execution_count": null,
      "outputs": []
    },
    {
      "cell_type": "markdown",
      "source": [
        "### **Functions**\n",
        "---\n",
        "####Functions are pieces of code that group a set of instructions and return a value. They help us break the code into segments that make it easier to find errors and also allow us to reuse code.\n",
        "---\n",
        "####Functions in python follow this structure:\n",
        "\n",
        "```\n",
        " def function_name(paramameter_1,parameter_2):\n",
        "\n",
        "  code\n",
        "  \n",
        "  return value\n",
        "```"
      ],
      "metadata": {
        "id": "r5OQtHXeLWCt"
      }
    },
    {
      "cell_type": "code",
      "source": [
        "#@markdown You can use different operations for your function's code. The most common are additions (+), substractions (-), multiplications (*), and divisions (/)\n",
        "def sum(a,b):\n",
        "  return a+b\n",
        "\n",
        "a = 2\n",
        "b = 8\n",
        "print (\"sum: \", a, \"+\", b, \"=\", sum(2,8))\n",
        "\n"
      ],
      "metadata": {
        "id": "c4SaxTbRLVoE"
      },
      "execution_count": null,
      "outputs": []
    },
    {
      "cell_type": "code",
      "source": [
        "#@title EXAMPLE 1\n",
        "#@markdown Suppose you have a patient's weight and height, we will write a function that gives you the patient's BMI; the formula for BMI calculation is: (weight)/(height^2). The formula requires you to input the weight in kg, and the height in meters, but your patient is American. Make sure to convert the units.\n"
      ],
      "metadata": {
        "id": "jMvVLqMlOhLe"
      },
      "execution_count": null,
      "outputs": []
    },
    {
      "cell_type": "code",
      "source": [
        "#@title EXAMPLE 2\n",
        "#@markdown Write a code that given two values compares if they are equal\n"
      ],
      "metadata": {
        "id": "Na3Ux3lbRwxZ"
      },
      "execution_count": null,
      "outputs": []
    },
    {
      "cell_type": "code",
      "source": [
        "#@title EXERCISE 1 ICE CREAM CONE: Write a code that calculates the volume of an ice cream cone that has two spherical ice cream scoops, with one scoop half outside the cone, given a scoop diameter of d.\n"
      ],
      "metadata": {
        "id": "43UffLndSyG4"
      },
      "execution_count": null,
      "outputs": []
    },
    {
      "cell_type": "code",
      "source": [
        "#@title EXERCISE 2 DOSAGE Write a code with a function dosage(weight, dosage_per_kg) that calculates a patient's dosage given a recommended dosage per kilogram. Make sure the user inputs the recommended dosage and the patient's weight as part of the code."
      ],
      "metadata": {
        "id": "4Qg0ov25Txaz"
      },
      "execution_count": null,
      "outputs": []
    }
  ]
}